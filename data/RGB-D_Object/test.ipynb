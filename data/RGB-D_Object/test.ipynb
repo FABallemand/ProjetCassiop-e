{
 "cells": [
  {
   "cell_type": "code",
   "execution_count": null,
   "metadata": {},
   "outputs": [],
   "source": [
    "import os\n",
    "import sys\n",
    "import itertools\n",
    "import numpy as np\n",
    "\n",
    "import torch\n",
    "from torch.utils.data import DataLoader\n",
    "import torchvision\n",
    "import torchvision.transforms as transforms\n",
    "\n",
    "import matplotlib.pyplot as plt\n",
    "\n",
    "sys.path.append(\"/home/self_supervised_learning_gr/self_supervised_learning/dev/ProjetCassiopee\")\n",
    "from src.setup import setup_python, setup_pytorch\n",
    "from src.transformation import RandomCrop, ObjectCrop\n",
    "from src.dataset import RGBDObjectDataset, RGBDObjectDataset_Supervised_Contrast, RGBDObjectDataset_Unsupervised_Contrast"
   ]
  },
  {
   "cell_type": "code",
   "execution_count": null,
   "metadata": {},
   "outputs": [],
   "source": [
    "setup_python()"
   ]
  },
  {
   "cell_type": "code",
   "execution_count": null,
   "metadata": {},
   "outputs": [],
   "source": [
    "setup_pytorch(gpu=False)"
   ]
  },
  {
   "cell_type": "code",
   "execution_count": null,
   "metadata": {},
   "outputs": [],
   "source": [
    "INPUT_SIZE = (256,256)\n",
    "# TRANSFORMATION = transforms.Compose(\n",
    "#         [transforms.ToTensor(),\n",
    "#          transforms.Resize(size=INPUT_SIZE)])\n",
    "TRANSFORMATION = transforms.Compose(\n",
    "        [transforms.ToTensor()])\n",
    "# CROP_TRANSFORMATION = RandomCrop(output_size=INPUT_SIZE,\n",
    "#                                  offset_range=(-128, 0))\n",
    "CROP_TRANSFORMATION = ObjectCrop(output_size=INPUT_SIZE,\n",
    "                                 padding=(20,20),\n",
    "                                 offset_range=(-10, 10))"
   ]
  },
  {
   "cell_type": "markdown",
   "metadata": {},
   "source": [
    "# RGBDObjectDataset"
   ]
  },
  {
   "cell_type": "code",
   "execution_count": null,
   "metadata": {},
   "outputs": [],
   "source": [
    "dataset = RGBDObjectDataset(path=\"rgbd-dataset\",\n",
    "                            mode=\"train\",\n",
    "                            class_names=[\"apple\", \"banana\"],\n",
    "                            modalities=[\"rgb\", \"depth\", \"mask\", \"loc\"],\n",
    "                            transformation=None,\n",
    "                            crop_transformation=None,\n",
    "                            nb_max_samples=20)"
   ]
  },
  {
   "cell_type": "code",
   "execution_count": null,
   "metadata": {},
   "outputs": [],
   "source": [
    "len(dataset)"
   ]
  },
  {
   "cell_type": "code",
   "execution_count": null,
   "metadata": {},
   "outputs": [],
   "source": [
    "print(dataset.class_dict)"
   ]
  },
  {
   "cell_type": "code",
   "execution_count": null,
   "metadata": {},
   "outputs": [],
   "source": [
    "print(len(dataset.x))\n",
    "print(dataset.x[:10])"
   ]
  },
  {
   "cell_type": "code",
   "execution_count": null,
   "metadata": {},
   "outputs": [],
   "source": [
    "print(len(dataset.y))\n",
    "print(dataset.y[:10])"
   ]
  },
  {
   "cell_type": "code",
   "execution_count": null,
   "metadata": {},
   "outputs": [],
   "source": [
    "data_loader = DataLoader(dataset,\n",
    "                         batch_size=2,\n",
    "                         shuffle=False)"
   ]
  },
  {
   "cell_type": "code",
   "execution_count": null,
   "metadata": {},
   "outputs": [],
   "source": [
    "len(data_loader)"
   ]
  },
  {
   "cell_type": "code",
   "execution_count": null,
   "metadata": {},
   "outputs": [],
   "source": [
    "data_iter = iter(data_loader)"
   ]
  },
  {
   "cell_type": "code",
   "execution_count": null,
   "metadata": {},
   "outputs": [],
   "source": [
    "for i, batch in enumerate(data_iter):\n",
    "    # print(i)\n",
    "    batch_rgb, batch_depth, batch_mask, batch_loc_x, batch_loc_y, batch_label = batch\n",
    "    rgb, depth, mask, loc_x, loc_y, label = batch_rgb[0], batch_depth[0], batch_mask[0], batch_loc_x[0], batch_loc_y[0], batch_label[0]\n",
    "    \n",
    "    fig, axs = plt.subplots(1, 3, figsize=(12,3))\n",
    "    axs[0].imshow(rgb.permute(1, 2, 0))\n",
    "    axs[0].scatter([loc_x], [loc_y], marker=\"+\", c=\"red\")\n",
    "    axs[1].imshow(depth.permute(1, 2, 0))\n",
    "    axs[1].scatter([loc_x], [loc_y], marker=\"+\", c=\"red\")\n",
    "    axs[2].imshow(mask.permute(1, 2, 0))\n",
    "    axs[2].scatter([loc_x], [loc_y], marker=\"+\", c=\"red\")\n",
    "    fig.suptitle(f\"Label: {label}->{list(dataset.class_dict)[label]} | Location: ({loc_x},{loc_y})\")\n",
    "    \n",
    "    if i == 4:\n",
    "        break"
   ]
  },
  {
   "cell_type": "code",
   "execution_count": null,
   "metadata": {},
   "outputs": [],
   "source": [
    "for i, batch in enumerate(itertools.islice(data_iter, len(data_loader))):\n",
    "    # print(i)\n",
    "    batch_rgb, batch_depth, batch_mask, batch_loc_x, batch_loc_y, batch_label = batch\n",
    "    rgb, depth, mask, loc_x, loc_y, label = batch_rgb[0], batch_depth[0], batch_mask[0], batch_loc_x[0], batch_loc_y[0], batch_label[0]\n",
    "    \n",
    "    fig, axs = plt.subplots(1, 3, figsize=(12,3))\n",
    "    axs[0].imshow(rgb.permute(1, 2, 0))\n",
    "    axs[1].imshow(depth.permute(1, 2, 0))\n",
    "    axs[2].imshow(mask.permute(1, 2, 0))\n",
    "    fig.suptitle(f\"Label: {label}->{list(dataset.class_dict)[label]} | Location: ({loc_x},{loc_y})\")"
   ]
  },
  {
   "cell_type": "code",
   "execution_count": null,
   "metadata": {},
   "outputs": [],
   "source": [
    "test = next(iter(data_loader))\n",
    "print(type(test))\n",
    "print(len(test))"
   ]
  },
  {
   "cell_type": "code",
   "execution_count": null,
   "metadata": {},
   "outputs": [],
   "source": [
    "# Retrieve batch data\n",
    "batch_rgb, batch_depth, batch_mask, batch_loc_x, batch_loc_y, batch_label = next(iter(data_loader))\n",
    "print(type(batch_rgb))\n",
    "print(type(batch_depth))\n",
    "print(type(batch_mask))\n",
    "print(type(batch_loc_x))\n",
    "print(batch_loc_x.shape)\n",
    "print(batch_loc_x)\n",
    "print(type(batch_loc_y))\n",
    "print(type(batch_label))\n",
    "print(f\"RGB batch shape: {batch_rgb.shape}\")\n",
    "print(f\"Labels batch shape: {batch_label.shape}\")"
   ]
  },
  {
   "cell_type": "code",
   "execution_count": null,
   "metadata": {},
   "outputs": [],
   "source": [
    "# Retrieve individual data\n",
    "rgb, depth, mask, loc_x, loc_y, label = batch_rgb[0], batch_depth[0], batch_mask[0], batch_loc_x[0], batch_loc_y[0], batch_label[0]\n",
    "print(type(rgb))\n",
    "print(type(depth))\n",
    "print(type(mask))\n",
    "print(type(loc_x))\n",
    "print(loc_x.shape)\n",
    "print(loc_x)\n",
    "# loc_x = int(loc_x)\n",
    "# print(type(loc_x))\n",
    "# print(loc_x)\n",
    "print(type(loc_y))\n",
    "print(loc_y)\n",
    "print(type(label))\n",
    "print(label)\n",
    "print(f\"RGB shape: {rgb.shape}\")\n",
    "print(f\"Labels shape: {label.shape}\")"
   ]
  },
  {
   "cell_type": "code",
   "execution_count": null,
   "metadata": {},
   "outputs": [],
   "source": [
    "print(rgb.size())\n",
    "fig, axs = plt.subplots(1, 3, figsize=(12,3))\n",
    "axs[0].imshow(rgb.permute(1, 2, 0))\n",
    "axs[0].scatter([loc_x], [loc_y], marker=\"+\", c=\"red\")\n",
    "axs[1].imshow(depth.permute(1, 2, 0))\n",
    "axs[1].scatter([loc_x], [loc_y], marker=\"+\", c=\"red\")\n",
    "axs[2].imshow(mask.permute(1, 2, 0))\n",
    "axs[2].scatter([loc_x], [loc_y], marker=\"+\", c=\"red\")\n",
    "fig.suptitle(f\"Label: {label}->{list(dataset.class_dict)[label]} | Location: ({loc_x},{loc_y})\")"
   ]
  },
  {
   "cell_type": "markdown",
   "metadata": {},
   "source": [
    "## Crop transformation test"
   ]
  },
  {
   "cell_type": "code",
   "execution_count": null,
   "metadata": {},
   "outputs": [],
   "source": [
    "crop_rgb, crop_depth, crop_mask, crop_loc_x, crop_loc_y = CROP_TRANSFORMATION(rgb, depth, mask, loc_x, loc_y)\n",
    "print(crop_rgb.size())\n",
    "fig, axs = plt.subplots(1, 3, figsize=(12,3))\n",
    "axs[0].imshow(crop_rgb.permute(1, 2, 0))\n",
    "axs[0].scatter([crop_loc_x], [crop_loc_y], marker=\"+\", c=\"red\")\n",
    "axs[1].imshow(crop_depth.permute(1, 2, 0))\n",
    "axs[1].scatter([crop_loc_x], [crop_loc_y], marker=\"+\", c=\"red\")\n",
    "axs[2].imshow(crop_mask.permute(1, 2, 0))\n",
    "axs[2].scatter([crop_loc_x], [crop_loc_y], marker=\"+\", c=\"red\")\n",
    "fig.suptitle(f\"Label: {label}->{list(dataset.class_dict)[label]} | Location: ({crop_loc_x},{crop_loc_y})\")"
   ]
  },
  {
   "cell_type": "markdown",
   "metadata": {},
   "source": [
    "# RGBDObjectDataset_Supervised_Contrastive"
   ]
  },
  {
   "cell_type": "code",
   "execution_count": null,
   "metadata": {},
   "outputs": [],
   "source": [
    "dataset_supervised_contrast = RGBDObjectDataset_Supervised_Contrast(path=\"rgbd-dataset\",\n",
    "                                                                    mode=\"train\",\n",
    "                                                                    class_names=[\"apple\", \"banana\"],\n",
    "                                                                    modalities=[\"rgb\", \"depth\", \"mask\", \"loc\"],\n",
    "                                                                    transformation=TRANSFORMATION,\n",
    "                                                                    crop_transformation=CROP_TRANSFORMATION,\n",
    "                                                                    nb_max_samples=10)"
   ]
  },
  {
   "cell_type": "code",
   "execution_count": null,
   "metadata": {},
   "outputs": [],
   "source": [
    "len(dataset_supervised_contrast)"
   ]
  },
  {
   "cell_type": "code",
   "execution_count": null,
   "metadata": {},
   "outputs": [],
   "source": [
    "print(dataset_supervised_contrast.class_dict)"
   ]
  },
  {
   "cell_type": "code",
   "execution_count": null,
   "metadata": {},
   "outputs": [],
   "source": [
    "print(len(dataset_supervised_contrast.x))\n",
    "print(dataset_supervised_contrast.x[:10])"
   ]
  },
  {
   "cell_type": "code",
   "execution_count": null,
   "metadata": {},
   "outputs": [],
   "source": [
    "print(len(dataset_supervised_contrast.y))\n",
    "print(dataset_supervised_contrast.y[:10])"
   ]
  },
  {
   "cell_type": "code",
   "execution_count": null,
   "metadata": {},
   "outputs": [],
   "source": [
    "data_loader_supervised_contrast = DataLoader(dataset_supervised_contrast,\n",
    "                                             batch_size=10,\n",
    "                                             shuffle=False)"
   ]
  },
  {
   "cell_type": "code",
   "execution_count": null,
   "metadata": {},
   "outputs": [],
   "source": [
    "# Retrieve batch data\n",
    "batch_p_data_1, batch_p_data_2, batch_n_data = next(iter(data_loader_supervised_contrast))\n",
    "batch_p_rgb_1, batch_p_depth_1, batch_p_mask_1, batch_p_loc_x_1, batch_p_loc_y_1, batch_p_label_1 = batch_p_data_1\n",
    "batch_p_rgb_2, batch_p_depth_2, batch_p_mask_2, batch_p_loc_x_2, batch_p_loc_y_2, batch_p_label_2 = batch_p_data_2\n",
    "batch_n_rgb, batch_n_depth, batch_n_mask, batch_n_loc_x, batch_n_loc_y, batch_n_label = batch_n_data"
   ]
  },
  {
   "cell_type": "code",
   "execution_count": null,
   "metadata": {},
   "outputs": [],
   "source": [
    "print(type(batch_p_rgb_1))\n",
    "print(batch_p_rgb_1.shape)"
   ]
  },
  {
   "cell_type": "code",
   "execution_count": null,
   "metadata": {},
   "outputs": [],
   "source": [
    "# Retrieve individual data\n",
    "p_rgb_1, p_depth_1, p_mask_1, p_loc_x_1, p_loc_y_1, p_label_1 = batch_p_rgb_1[0], batch_p_depth_1[0], batch_p_mask_1[0], batch_p_loc_x_1[0], batch_p_loc_y_1[0], batch_p_label_1[0]\n",
    "p_rgb_2, p_depth_2, p_mask_2, p_loc_x_2, p_loc_y_2, p_label_2 = batch_p_rgb_2[0], batch_p_depth_2[0], batch_p_mask_2[0], batch_p_loc_x_2[0], batch_p_loc_y_2[0], batch_p_label_2[0]\n",
    "n_rgb, n_depth, n_mask, n_loc_x, n_loc_y, n_label = batch_n_rgb[0], batch_n_depth[0], batch_n_mask[0], batch_n_loc_x[0], batch_n_loc_y[0], batch_n_label[0]"
   ]
  },
  {
   "cell_type": "code",
   "execution_count": null,
   "metadata": {},
   "outputs": [],
   "source": [
    "print(rgb.size())\n",
    "fig, axs = plt.subplots(3, 3, figsize=(12,12))\n",
    "\n",
    "axs[0,0].imshow(p_rgb_1.permute(1, 2, 0))\n",
    "axs[0,0].scatter([p_loc_x_1], [p_loc_y_1], marker=\"+\", c=\"red\")\n",
    "axs[0,1].imshow(p_depth_1.permute(1, 2, 0))\n",
    "axs[0,1].scatter([p_loc_x_1], [p_loc_y_1], marker=\"+\", c=\"red\")\n",
    "axs[0,2].imshow(p_mask_1.permute(1, 2, 0))\n",
    "axs[0,2].scatter([p_loc_x_1], [p_loc_y_1], marker=\"+\", c=\"red\")\n",
    "axs[0,0].set_title(f\"Label: {p_label_1}->{list(dataset.class_dict)[p_label_1]} | Location: ({p_loc_x_1},{p_loc_y_1})\")\n",
    "\n",
    "axs[1,0].imshow(p_rgb_2.permute(1, 2, 0))\n",
    "axs[1,0].scatter([p_loc_x_2], [p_loc_y_2], marker=\"+\", c=\"red\")\n",
    "axs[1,1].imshow(p_depth_2.permute(1, 2, 0))\n",
    "axs[1,1].scatter([p_loc_x_2], [p_loc_y_2], marker=\"+\", c=\"red\")\n",
    "axs[1,2].imshow(p_mask_2.permute(1, 2, 0))\n",
    "axs[1,2].scatter([p_loc_x_2], [p_loc_y_2], marker=\"+\", c=\"red\")\n",
    "axs[1,0].set_title(f\"Label: {p_label_2}->{list(dataset.class_dict)[p_label_2]} | Location: ({p_loc_x_2},{p_loc_y_2})\")\n",
    "\n",
    "axs[2,0].imshow(n_rgb.permute(1, 2, 0))\n",
    "axs[2,0].scatter([n_loc_x], [n_loc_y], marker=\"+\", c=\"red\")\n",
    "axs[2,1].imshow(n_depth.permute(1, 2, 0))\n",
    "axs[2,1].scatter([n_loc_x], [n_loc_y], marker=\"+\", c=\"red\")\n",
    "axs[2,2].imshow(n_mask.permute(1, 2, 0))\n",
    "axs[2,2].scatter([n_loc_x], [n_loc_y], marker=\"+\", c=\"red\")\n",
    "axs[2,0].set_title(f\"Label: {n_label}->{list(dataset.class_dict)[n_label]} | Location: ({n_loc_x},{n_loc_y})\")"
   ]
  },
  {
   "cell_type": "markdown",
   "metadata": {},
   "source": [
    "# RGBDObject_Unsupervised_Contrast"
   ]
  },
  {
   "cell_type": "code",
   "execution_count": null,
   "metadata": {},
   "outputs": [],
   "source": [
    "dataset_unsupervised_contrast = RGBDObjectDataset_Unsupervised_Contrast(path=\"rgbd-dataset\",\n",
    "                                                                        mode=\"train\",\n",
    "                                                                        class_names=[\"apple\", \"banana\"],\n",
    "                                                                        modalities=[\"rgb\", \"depth\", \"mask\", \"loc\"],\n",
    "                                                                        transformation=TRANSFORMATION,\n",
    "                                                                        crop_transformation=CROP_TRANSFORMATION,\n",
    "                                                                        nb_max_samples=10)"
   ]
  },
  {
   "cell_type": "code",
   "execution_count": null,
   "metadata": {},
   "outputs": [],
   "source": [
    "len(dataset_unsupervised_contrast)"
   ]
  },
  {
   "cell_type": "code",
   "execution_count": null,
   "metadata": {},
   "outputs": [],
   "source": [
    "print(dataset_unsupervised_contrast.class_dict)"
   ]
  },
  {
   "cell_type": "code",
   "execution_count": null,
   "metadata": {},
   "outputs": [],
   "source": [
    "print(len(dataset_unsupervised_contrast.x))\n",
    "print(dataset_unsupervised_contrast.x[:10])"
   ]
  },
  {
   "cell_type": "code",
   "execution_count": null,
   "metadata": {},
   "outputs": [],
   "source": [
    "print(len(dataset_unsupervised_contrast.y))\n",
    "print(dataset_unsupervised_contrast.y[:10])"
   ]
  },
  {
   "cell_type": "code",
   "execution_count": null,
   "metadata": {},
   "outputs": [],
   "source": [
    "data_loader_unsupervised_contrast = DataLoader(dataset_unsupervised_contrast,\n",
    "                                               batch_size=10,\n",
    "                                               shuffle=False)"
   ]
  },
  {
   "cell_type": "code",
   "execution_count": null,
   "metadata": {},
   "outputs": [],
   "source": [
    "# Retrieve batch data\n",
    "batch_p_data_1, batch_p_data_2, batch_n_data = next(iter(data_loader_unsupervised_contrast))\n",
    "batch_p_rgb_1, batch_p_depth_1, batch_p_mask_1, batch_p_loc_x_1, batch_p_loc_y_1, batch_p_label_1 = batch_p_data_1\n",
    "batch_p_rgb_2, batch_p_depth_2, batch_p_mask_2, batch_p_loc_x_2, batch_p_loc_y_2, batch_p_label_2 = batch_p_data_2\n",
    "batch_n_rgb, batch_n_depth, batch_n_mask, batch_n_loc_x, batch_n_loc_y, batch_n_label = batch_n_data"
   ]
  },
  {
   "cell_type": "code",
   "execution_count": null,
   "metadata": {},
   "outputs": [],
   "source": [
    "print(type(batch_p_rgb_1))\n",
    "print(batch_p_rgb_1.shape)"
   ]
  },
  {
   "cell_type": "code",
   "execution_count": null,
   "metadata": {},
   "outputs": [],
   "source": [
    "# Retrieve individual data\n",
    "p_rgb_1, p_depth_1, p_mask_1, p_loc_x_1, p_loc_y_1, p_label_1 = batch_p_rgb_1[0], batch_p_depth_1[0], batch_p_mask_1[0], batch_p_loc_x_1[0], batch_p_loc_y_1[0], batch_p_label_1[0]\n",
    "p_rgb_2, p_depth_2, p_mask_2, p_loc_x_2, p_loc_y_2, p_label_2 = batch_p_rgb_2[0], batch_p_depth_2[0], batch_p_mask_2[0], batch_p_loc_x_2[0], batch_p_loc_y_2[0], batch_p_label_2[0]\n",
    "n_rgb, n_depth, n_mask, n_loc_x, n_loc_y, n_label = batch_n_rgb[0], batch_n_depth[0], batch_n_mask[0], batch_n_loc_x[0], batch_n_loc_y[0], batch_n_label[0]"
   ]
  },
  {
   "cell_type": "code",
   "execution_count": null,
   "metadata": {},
   "outputs": [],
   "source": [
    "print(rgb.size())\n",
    "fig, axs = plt.subplots(3, 3, figsize=(12,12))\n",
    "\n",
    "axs[0,0].imshow(p_rgb_1.permute(1, 2, 0))\n",
    "axs[0,0].scatter([p_loc_x_1], [p_loc_y_1], marker=\"+\", c=\"red\")\n",
    "axs[0,1].imshow(p_depth_1.permute(1, 2, 0))\n",
    "axs[0,1].scatter([p_loc_x_1], [p_loc_y_1], marker=\"+\", c=\"red\")\n",
    "axs[0,2].imshow(p_mask_1.permute(1, 2, 0))\n",
    "axs[0,2].scatter([p_loc_x_1], [p_loc_y_1], marker=\"+\", c=\"red\")\n",
    "axs[0,0].set_title(f\"Label: {p_label_1}->{list(dataset.class_dict)[p_label_1]} | Location: ({p_loc_x_1},{p_loc_y_1})\")\n",
    "\n",
    "axs[1,0].imshow(p_rgb_2.permute(1, 2, 0))\n",
    "axs[1,0].scatter([p_loc_x_2], [p_loc_y_2], marker=\"+\", c=\"red\")\n",
    "axs[1,1].imshow(p_depth_2.permute(1, 2, 0))\n",
    "axs[1,1].scatter([p_loc_x_2], [p_loc_y_2], marker=\"+\", c=\"red\")\n",
    "axs[1,2].imshow(p_mask_2.permute(1, 2, 0))\n",
    "axs[1,2].scatter([p_loc_x_2], [p_loc_y_2], marker=\"+\", c=\"red\")\n",
    "axs[1,0].set_title(f\"Label: {p_label_2}->{list(dataset.class_dict)[p_label_2]} | Location: ({p_loc_x_2},{p_loc_y_2})\")\n",
    "\n",
    "axs[2,0].imshow(n_rgb.permute(1, 2, 0))\n",
    "axs[2,0].scatter([n_loc_x], [n_loc_y], marker=\"+\", c=\"red\")\n",
    "axs[2,1].imshow(n_depth.permute(1, 2, 0))\n",
    "axs[2,1].scatter([n_loc_x], [n_loc_y], marker=\"+\", c=\"red\")\n",
    "axs[2,2].imshow(n_mask.permute(1, 2, 0))\n",
    "axs[2,2].scatter([n_loc_x], [n_loc_y], marker=\"+\", c=\"red\")\n",
    "axs[2,0].set_title(f\"Label: {n_label}->{list(dataset.class_dict)[n_label]} | Location: ({n_loc_x},{n_loc_y})\")"
   ]
  }
 ],
 "metadata": {
  "kernelspec": {
   "display_name": "self_supervised_learning",
   "language": "python",
   "name": "self_supervised_learning"
  },
  "language_info": {
   "codemirror_mode": {
    "name": "ipython",
    "version": 3
   },
   "file_extension": ".py",
   "mimetype": "text/x-python",
   "name": "python",
   "nbconvert_exporter": "python",
   "pygments_lexer": "ipython3",
   "version": "3.8.10"
  }
 },
 "nbformat": 4,
 "nbformat_minor": 2
}
