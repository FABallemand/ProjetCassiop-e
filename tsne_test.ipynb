{
 "cells": [
  {
   "cell_type": "code",
   "execution_count": null,
   "metadata": {},
   "outputs": [],
   "source": [
    "import os\n",
    "import sys\n",
    "import numpy as np\n",
    "\n",
    "import torch\n",
    "from torch.utils.data import DataLoader\n",
    "import torchvision\n",
    "import torchvision.transforms as transforms\n",
    "\n",
    "from sklearn.manifold import TSNE\n",
    "\n",
    "import matplotlib.pyplot as plt\n",
    "\n",
    "sys.path.append(\"/home/self_supervised_learning_gr/self_supervised_learning/dev/ProjetCassiopee\")\n",
    "from src.setup import setup_python, setup_pytorch\n",
    "from src.dataset import RGBDObjectDataset, RGBDObjectDataset_Contrast\n",
    "from src.models.combined_model import CombinedModel, train, test"
   ]
  },
  {
   "cell_type": "code",
   "execution_count": null,
   "metadata": {},
   "outputs": [],
   "source": [
    "setup_python()"
   ]
  },
  {
   "cell_type": "code",
   "execution_count": null,
   "metadata": {},
   "outputs": [],
   "source": [
    "DEVICE = setup_pytorch()"
   ]
  },
  {
   "cell_type": "code",
   "execution_count": null,
   "metadata": {},
   "outputs": [],
   "source": [
    "BATCH_SIZE = 10 # Batch size\n",
    "INPUT_SIZE = (128,128)\n",
    "TRANSFORMATION = transforms.Compose(\n",
    "    [transforms.ToTensor(),\n",
    "     transforms.Resize(size=INPUT_SIZE)])\n",
    "NB_TEST_SAMPLES = 100\n",
    "\n",
    "test_dataset = RGBDObjectDataset_Contrast(path=\"data/RGB-D_Object/rgbd-dataset\",\n",
    "                                          mode=\"test\",\n",
    "                                          transformation=TRANSFORMATION,\n",
    "                                          nb_samples=NB_TEST_SAMPLES)\n",
    "\n",
    "test_data_loader = DataLoader(test_dataset,\n",
    "                              batch_size=BATCH_SIZE,\n",
    "                              shuffle=True)"
   ]
  },
  {
   "cell_type": "code",
   "execution_count": null,
   "metadata": {},
   "outputs": [],
   "source": [
    "model = CombinedModel().to(DEVICE)"
   ]
  },
  {
   "cell_type": "code",
   "execution_count": null,
   "metadata": {},
   "outputs": [],
   "source": [
    "# Run inference\n",
    "encoded_features = []\n",
    "labels = []\n",
    "with torch.no_grad():\n",
    "    for i, batch in enumerate(test_data_loader):\n",
    "        \n",
    "        # Load and prepare batch\n",
    "        p_data_1, p_data_2, n_data = batch\n",
    "        p_rgb_1, p_depth_1, p_mask_1, p_loc_x_1, p_loc_y_1, p_label_1 = p_data_1\n",
    "        p_rgb_1 = p_rgb_1.to(DEVICE)\n",
    "        # p_depth_1 = p_depth_1.to(DEVICE)\n",
    "        # p_mask_1 = p_mask_1.to(DEVICE)\n",
    "        # p_loc_x_1 = p_loc_x_1.to(DEVICE)\n",
    "        # p_loc_y_1 = p_loc_y_1.to(DEVICE)\n",
    "        p_label_1 = p_label_1.to(DEVICE)\n",
    "        # p_rgb_2, p_depth_2, p_mask_2, p_loc_x_2, p_loc_y_2, p_label_2 = p_data_2\n",
    "        # p_rgb_2 = p_rgb_2.to(DEVICE)\n",
    "        # p_depth_2 = p_depth_2.to(DEVICE)\n",
    "        # p_mask_2 = p_mask_2.to(DEVICE)\n",
    "        # p_loc_x_2 = p_loc_x_2.to(DEVICE)\n",
    "        # p_loc_y_2 = p_loc_y_2.to(DEVICE)\n",
    "        # p_label_2 = p_label_2.to(DEVICE)\n",
    "        # n_rgb, n_depth, n_mask, n_loc_x, n_loc_y, n_label = n_data\n",
    "        # n_rgb = n_rgb.to(DEVICE)\n",
    "        # n_depth = n_depth.to(DEVICE)\n",
    "        # n_mask = n_mask.to(DEVICE)\n",
    "        # n_loc_x = n_loc_x.to(DEVICE)\n",
    "        # n_loc_y = n_loc_y.to(DEVICE)\n",
    "        # n_label = n_label.to(DEVICE)\n",
    "        \n",
    "        # Make predictions for batch\n",
    "        encoded_x, predicted_label = model(p_rgb_1)\n",
    "\n",
    "        # Save encoded features and labels\n",
    "        encoded_features.append(encoded_x)\n",
    "        labels.append(p_label_1)"
   ]
  },
  {
   "cell_type": "code",
   "execution_count": null,
   "metadata": {},
   "outputs": [],
   "source": [
    "print(len(encoded_features))\n",
    "print(encoded_features[0].shape)\n",
    "print(encoded_features[0])"
   ]
  },
  {
   "cell_type": "code",
   "execution_count": null,
   "metadata": {},
   "outputs": [],
   "source": [
    "encoded_features_arr = torch.empty(size=(NB_TEST_SAMPLES, 4096))\n",
    "print(encoded_features_arr.shape)\n",
    "print(encoded_features_arr)\n",
    "for i, batch in enumerate(encoded_features):\n",
    "    encoded_features_arr[i * BATCH_SIZE:(i + 1) * BATCH_SIZE,:] = batch\n",
    "print(encoded_features_arr.shape)\n",
    "print(encoded_features_arr)"
   ]
  },
  {
   "cell_type": "code",
   "execution_count": null,
   "metadata": {},
   "outputs": [],
   "source": [
    "print(len(labels))\n",
    "print(labels[0].shape)\n",
    "print(labels[0])"
   ]
  },
  {
   "cell_type": "code",
   "execution_count": null,
   "metadata": {},
   "outputs": [],
   "source": [
    "labels_arr = torch.empty(size=(NB_TEST_SAMPLES,))\n",
    "print(labels_arr.shape)\n",
    "print(labels_arr)\n",
    "for i, batch in enumerate(labels):\n",
    "    labels_arr[i * BATCH_SIZE:(i + 1) * BATCH_SIZE] = batch\n",
    "print(labels_arr.shape)\n",
    "print(labels_arr)"
   ]
  },
  {
   "cell_type": "code",
   "execution_count": null,
   "metadata": {},
   "outputs": [],
   "source": [
    "# Apply TSNE\n",
    "tsne = TSNE(n_components=2,\n",
    "            perplexity=30,\n",
    "            n_iter=1000,\n",
    "            init=\"pca\",\n",
    "            random_state=42)"
   ]
  },
  {
   "cell_type": "code",
   "execution_count": null,
   "metadata": {},
   "outputs": [],
   "source": [
    "tsne_results = tsne.fit_transform(encoded_features_arr)"
   ]
  },
  {
   "cell_type": "code",
   "execution_count": null,
   "metadata": {},
   "outputs": [],
   "source": [
    "print(type(tsne_results))\n",
    "print(tsne_results.shape)"
   ]
  },
  {
   "cell_type": "code",
   "execution_count": null,
   "metadata": {},
   "outputs": [],
   "source": [
    "fig, ax = plt.subplots(figsize=(10, 10))\n",
    "ax.scatter(tsne_results[:,0], tsne_results[:,1], c=labels_arr, s=50, alpha=0.8)"
   ]
  }
 ],
 "metadata": {
  "kernelspec": {
   "display_name": "self_supervised_learning",
   "language": "python",
   "name": "self_supervised_learning"
  },
  "language_info": {
   "codemirror_mode": {
    "name": "ipython",
    "version": 3
   },
   "file_extension": ".py",
   "mimetype": "text/x-python",
   "name": "python",
   "nbconvert_exporter": "python",
   "pygments_lexer": "ipython3",
   "version": "3.8.10"
  }
 },
 "nbformat": 4,
 "nbformat_minor": 2
}
