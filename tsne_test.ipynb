{
 "cells": [
  {
   "cell_type": "code",
   "execution_count": 1,
   "metadata": {},
   "outputs": [
    {
     "name": "stderr",
     "output_type": "stream",
     "text": [
      "/home/self_supervised_learning_gr/self_supervised_learning/lib/python3.8/site-packages/tqdm/auto.py:21: TqdmWarning: IProgress not found. Please update jupyter and ipywidgets. See https://ipywidgets.readthedocs.io/en/stable/user_install.html\n",
      "  from .autonotebook import tqdm as notebook_tqdm\n"
     ]
    }
   ],
   "source": [
    "import os\n",
    "import sys\n",
    "import numpy as np\n",
    "\n",
    "import torch\n",
    "from torch.utils.data import DataLoader\n",
    "import torchvision\n",
    "import torchvision.transforms as transforms\n",
    "\n",
    "from sklearn.manifold import TSNE\n",
    "\n",
    "import matplotlib.pyplot as plt\n",
    "\n",
    "sys.path.append(\"/home/self_supervised_learning_gr/self_supervised_learning/dev/ProjetCassiopee\")\n",
    "from src.setup import setup_python, setup_pytorch\n",
    "from src.dataset import RGBDObjectDataset, RGBDObjectDataset_Supervised_Contrast\n",
    "from src.models.combined_model import CombinedModel, train, test"
   ]
  },
  {
   "cell_type": "code",
   "execution_count": 2,
   "metadata": {},
   "outputs": [
    {
     "name": "stdout",
     "output_type": "stream",
     "text": [
      "sys.version = 3.8.10 (default, Nov 22 2023, 10:22:35) \n",
      "[GCC 9.4.0]\n",
      "os.getcwd() = /home/self_supervised_learning_gr/self_supervised_learning/dev/ProjetCassiopee\n"
     ]
    }
   ],
   "source": [
    "setup_python()"
   ]
  },
  {
   "cell_type": "code",
   "execution_count": 3,
   "metadata": {},
   "outputs": [
    {
     "name": "stdout",
     "output_type": "stream",
     "text": [
      "torch.__version__ = 1.12.1+cu113\n",
      "torch.backends.cudnn.version() = 8302\n",
      "torch.version.cuda = 11.3\n",
      "DEVICE = cuda:0\n"
     ]
    }
   ],
   "source": [
    "DEVICE = setup_pytorch()"
   ]
  },
  {
   "cell_type": "code",
   "execution_count": 5,
   "metadata": {},
   "outputs": [],
   "source": [
    "BATCH_SIZE = 10 # Batch size\n",
    "INPUT_SIZE = (128,128)\n",
    "TRANSFORMATION = transforms.Compose(\n",
    "    [transforms.ToTensor(),\n",
    "     transforms.Resize(size=INPUT_SIZE)])\n",
    "NB_TEST_SAMPLES = 100\n",
    "\n",
    "test_dataset = RGBDObjectDataset_Supervised_Contrast(path=\"data/RGB-D_Object/rgbd-dataset\",\n",
    "                                          mode=\"test\",\n",
    "                                          transformation=TRANSFORMATION,\n",
    "                                          nb_samples=NB_TEST_SAMPLES)\n",
    "\n",
    "test_data_loader = DataLoader(test_dataset,\n",
    "                              batch_size=BATCH_SIZE,\n",
    "                              shuffle=True)"
   ]
  },
  {
   "cell_type": "code",
   "execution_count": 6,
   "metadata": {},
   "outputs": [],
   "source": [
    "model = CombinedModel().to(DEVICE)"
   ]
  },
  {
   "cell_type": "code",
   "execution_count": 7,
   "metadata": {},
   "outputs": [],
   "source": [
    "# Run inference\n",
    "encoded_features = []\n",
    "labels = []\n",
    "with torch.no_grad():\n",
    "    for i, batch in enumerate(test_data_loader):\n",
    "        \n",
    "        # Load and prepare batch\n",
    "        p_data_1, p_data_2, n_data = batch\n",
    "        p_rgb_1, p_depth_1, p_mask_1, p_loc_x_1, p_loc_y_1, p_label_1 = p_data_1\n",
    "        p_rgb_1 = p_rgb_1.to(DEVICE)\n",
    "        # p_depth_1 = p_depth_1.to(DEVICE)\n",
    "        # p_mask_1 = p_mask_1.to(DEVICE)\n",
    "        # p_loc_x_1 = p_loc_x_1.to(DEVICE)\n",
    "        # p_loc_y_1 = p_loc_y_1.to(DEVICE)\n",
    "        p_label_1 = p_label_1.to(DEVICE)\n",
    "        # p_rgb_2, p_depth_2, p_mask_2, p_loc_x_2, p_loc_y_2, p_label_2 = p_data_2\n",
    "        # p_rgb_2 = p_rgb_2.to(DEVICE)\n",
    "        # p_depth_2 = p_depth_2.to(DEVICE)\n",
    "        # p_mask_2 = p_mask_2.to(DEVICE)\n",
    "        # p_loc_x_2 = p_loc_x_2.to(DEVICE)\n",
    "        # p_loc_y_2 = p_loc_y_2.to(DEVICE)\n",
    "        # p_label_2 = p_label_2.to(DEVICE)\n",
    "        # n_rgb, n_depth, n_mask, n_loc_x, n_loc_y, n_label = n_data\n",
    "        # n_rgb = n_rgb.to(DEVICE)\n",
    "        # n_depth = n_depth.to(DEVICE)\n",
    "        # n_mask = n_mask.to(DEVICE)\n",
    "        # n_loc_x = n_loc_x.to(DEVICE)\n",
    "        # n_loc_y = n_loc_y.to(DEVICE)\n",
    "        # n_label = n_label.to(DEVICE)\n",
    "        \n",
    "        # Make predictions for batch\n",
    "        encoded_x, predicted_label = model(p_rgb_1)\n",
    "\n",
    "        # Save encoded features and labels\n",
    "        encoded_features.append(encoded_x)\n",
    "        labels.append(p_label_1)"
   ]
  },
  {
   "cell_type": "code",
   "execution_count": 8,
   "metadata": {},
   "outputs": [
    {
     "name": "stdout",
     "output_type": "stream",
     "text": [
      "10\n",
      "torch.Size([10, 4096])\n",
      "tensor([[0.0000, 0.0520, 0.0000,  ..., 0.0000, 0.0000, 1.4352],\n",
      "        [0.0000, 0.0000, 0.0000,  ..., 0.0000, 0.0000, 1.2603],\n",
      "        [0.1032, 0.0000, 0.5150,  ..., 0.0000, 0.2359, 0.0000],\n",
      "        ...,\n",
      "        [0.0000, 0.0000, 0.0047,  ..., 0.0000, 1.1724, 0.0000],\n",
      "        [0.0165, 0.0000, 0.0000,  ..., 0.0000, 0.0000, 0.0000],\n",
      "        [0.9309, 0.4725, 0.0000,  ..., 0.0000, 0.3355, 0.0000]],\n",
      "       device='cuda:0')\n"
     ]
    }
   ],
   "source": [
    "print(len(encoded_features))\n",
    "print(encoded_features[0].shape)\n",
    "print(encoded_features[0])"
   ]
  },
  {
   "cell_type": "code",
   "execution_count": 9,
   "metadata": {},
   "outputs": [
    {
     "name": "stdout",
     "output_type": "stream",
     "text": [
      "torch.Size([100, 4096])\n",
      "tensor([[5.8617e-34, 0.0000e+00, 1.2748e+25,  ..., 3.5294e-01, 3.5980e-01,\n",
      "         3.5147e-01],\n",
      "        [1.5588e-01, 1.7206e-01, 1.5441e-01,  ..., 3.7892e-01, 3.5735e-01,\n",
      "         3.6618e-01],\n",
      "        [1.6961e-01, 1.6618e-01, 1.9216e-01,  ..., 2.9510e-01, 2.8873e-01,\n",
      "         2.7843e-01],\n",
      "        ...,\n",
      "        [9.0882e-01, 9.0343e-01, 8.9167e-01,  ..., 5.9755e-01, 5.9461e-01,\n",
      "         5.9216e-01],\n",
      "        [6.0000e-01, 6.0245e-01, 5.8186e-01,  ..., 8.1569e-01, 8.1863e-01,\n",
      "         8.1863e-01],\n",
      "        [8.2353e-01, 8.1078e-01, 8.1029e-01,  ..., 4.3627e-01, 4.2451e-01,\n",
      "         4.3039e-01]])\n",
      "torch.Size([100, 4096])\n",
      "tensor([[0.0000, 0.0520, 0.0000,  ..., 0.0000, 0.0000, 1.4352],\n",
      "        [0.0000, 0.0000, 0.0000,  ..., 0.0000, 0.0000, 1.2603],\n",
      "        [0.1032, 0.0000, 0.5150,  ..., 0.0000, 0.2359, 0.0000],\n",
      "        ...,\n",
      "        [0.2166, 0.0000, 0.2228,  ..., 0.0000, 0.7396, 0.3502],\n",
      "        [0.0000, 0.0000, 0.6701,  ..., 0.0000, 0.0000, 1.3662],\n",
      "        [0.0642, 0.0000, 0.6838,  ..., 0.0000, 0.3227, 0.0000]])\n"
     ]
    }
   ],
   "source": [
    "encoded_features_arr = torch.empty(size=(NB_TEST_SAMPLES, 4096))\n",
    "print(encoded_features_arr.shape)\n",
    "print(encoded_features_arr)\n",
    "for i, batch in enumerate(encoded_features):\n",
    "    encoded_features_arr[i * BATCH_SIZE:(i + 1) * BATCH_SIZE,:] = batch\n",
    "print(encoded_features_arr.shape)\n",
    "print(encoded_features_arr)"
   ]
  },
  {
   "cell_type": "code",
   "execution_count": 10,
   "metadata": {},
   "outputs": [
    {
     "name": "stdout",
     "output_type": "stream",
     "text": [
      "10\n",
      "torch.Size([10])\n",
      "tensor([36, 29, 29, 17, 36, 20,  5,  9, 11, 15], device='cuda:0')\n"
     ]
    }
   ],
   "source": [
    "print(len(labels))\n",
    "print(labels[0].shape)\n",
    "print(labels[0])"
   ]
  },
  {
   "cell_type": "code",
   "execution_count": 11,
   "metadata": {},
   "outputs": [
    {
     "name": "stdout",
     "output_type": "stream",
     "text": [
      "torch.Size([100])\n",
      "tensor([-3.6765e-31,  4.5806e-41, -3.6765e-31,  4.5806e-41,  1.4013e-45,\n",
      "         0.0000e+00,  0.0000e+00,  0.0000e+00,  0.0000e+00,  0.0000e+00,\n",
      "         0.0000e+00,  0.0000e+00,  7.9095e+24,  0.0000e+00,  3.2477e-36,\n",
      "         0.0000e+00, -2.9201e+00,  4.5804e-41,  0.0000e+00,  0.0000e+00,\n",
      "         0.0000e+00,  0.0000e+00,  0.0000e+00,  0.0000e+00,  0.0000e+00,\n",
      "         0.0000e+00,  0.0000e+00,  0.0000e+00,  0.0000e+00,  0.0000e+00,\n",
      "         1.4013e-45,  0.0000e+00,  0.0000e+00,  0.0000e+00,  0.0000e+00,\n",
      "         0.0000e+00,  0.0000e+00,  0.0000e+00,  0.0000e+00,  0.0000e+00,\n",
      "         5.6052e-45,  0.0000e+00,  1.4013e-45,  0.0000e+00,  9.1844e-41,\n",
      "         1.1551e-40,  1.1481e-41,  2.0739e-43,  2.9147e-43,  0.0000e+00,\n",
      "         6.7262e-44,  0.0000e+00,  7.9377e-34,  0.0000e+00,  0.0000e+00,\n",
      "         0.0000e+00,  1.4013e-45,  0.0000e+00,  0.0000e+00,  0.0000e+00,\n",
      "         0.0000e+00,  0.0000e+00,  4.6243e-44,  0.0000e+00,  7.9382e-34,\n",
      "         0.0000e+00,  7.9530e-34,  0.0000e+00,  4.0357e-43,  0.0000e+00,\n",
      "         8.9683e-44,  0.0000e+00,  7.9311e+24,  0.0000e+00,  0.0000e+00,\n",
      "         0.0000e+00,  0.0000e+00,  0.0000e+00,  0.0000e+00,  0.0000e+00,\n",
      "         9.1835e-41,  0.0000e+00,  0.0000e+00,  0.0000e+00,  0.0000e+00,\n",
      "         0.0000e+00,  9.1084e-44,  0.0000e+00,  7.9419e-34,  0.0000e+00,\n",
      "         7.9530e-34,  0.0000e+00,  1.4013e-45,  0.0000e+00,  4.6243e-44,\n",
      "         0.0000e+00,  8.0662e+24,  0.0000e+00, -3.6764e-31,  4.5806e-41])\n",
      "torch.Size([100])\n",
      "tensor([36., 29., 29., 17., 36., 20.,  5.,  9., 11., 15., 23., 48., 45., 12.,\n",
      "        45.,  7., 20., 43., 27., 44., 17., 26.,  5., 16., 46., 17.,  1., 27.,\n",
      "         4., 31., 17., 10., 16., 50., 10., 36., 18., 43., 41., 26., 46., 16.,\n",
      "        30., 48., 40., 33., 16., 46., 17., 50., 43.,  1., 14., 14., 21.,  2.,\n",
      "        27., 13., 24., 15., 17., 11., 44., 29., 15.,  9., 40., 45., 24., 36.,\n",
      "        38.,  6., 19., 33.,  6.,  7., 17.,  0., 50., 33., 15., 20., 14., 41.,\n",
      "        45.,  9., 20., 12., 17., 47., 32., 26., 30., 50., 19., 41., 30., 46.,\n",
      "        27., 11.])\n"
     ]
    }
   ],
   "source": [
    "labels_arr = torch.empty(size=(NB_TEST_SAMPLES,))\n",
    "print(labels_arr.shape)\n",
    "print(labels_arr)\n",
    "for i, batch in enumerate(labels):\n",
    "    labels_arr[i * BATCH_SIZE:(i + 1) * BATCH_SIZE] = batch\n",
    "print(labels_arr.shape)\n",
    "print(labels_arr)"
   ]
  },
  {
   "cell_type": "code",
   "execution_count": 12,
   "metadata": {},
   "outputs": [],
   "source": [
    "# Apply TSNE\n",
    "tsne = TSNE(n_components=2,\n",
    "            perplexity=30,\n",
    "            n_iter=1000,\n",
    "            init=\"pca\",\n",
    "            random_state=42)"
   ]
  },
  {
   "cell_type": "code",
   "execution_count": 13,
   "metadata": {},
   "outputs": [],
   "source": [
    "tsne_results = tsne.fit_transform(encoded_features_arr)"
   ]
  },
  {
   "cell_type": "code",
   "execution_count": 14,
   "metadata": {},
   "outputs": [
    {
     "name": "stdout",
     "output_type": "stream",
     "text": [
      "<class 'numpy.ndarray'>\n",
      "(100, 2)\n"
     ]
    }
   ],
   "source": [
    "print(type(tsne_results))\n",
    "print(tsne_results.shape)"
   ]
  },
  {
   "cell_type": "code",
   "execution_count": 15,
   "metadata": {},
   "outputs": [
    {
     "data": {
      "text/plain": [
       "<matplotlib.collections.PathCollection at 0x7fafc07a8460>"
      ]
     },
     "execution_count": 15,
     "metadata": {},
     "output_type": "execute_result"
    },
    {
     "data": {
      "image/png": "[encoded data removed]",
      "text/plain": [
       "<Figure size 1000x1000 with 1 Axes>"
      ]
     },
     "metadata": {},
     "output_type": "display_data"
    }
   ],
   "source": [
    "fig, ax = plt.subplots(figsize=(10, 10))\n",
    "ax.scatter(tsne_results[:,0], tsne_results[:,1], c=labels_arr, s=50, alpha=0.8)"
   ]
  }
 ],
 "metadata": {
  "kernelspec": {
   "display_name": "self_supervised_learning",
   "language": "python",
   "name": "self_supervised_learning"
  },
  "language_info": {
   "codemirror_mode": {
    "name": "ipython",
    "version": 3
   },
   "file_extension": ".py",
   "mimetype": "text/x-python",
   "name": "python",
   "nbconvert_exporter": "python",
   "pygments_lexer": "ipython3",
   "version": "3.8.10"
  }
 },
 "nbformat": 4,
 "nbformat_minor": 2
}
