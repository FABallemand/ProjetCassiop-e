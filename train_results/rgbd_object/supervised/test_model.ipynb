{
 "cells": [
  {
   "cell_type": "code",
   "execution_count": null,
   "metadata": {},
   "outputs": [],
   "source": [
    "import os\n",
    "import sys\n",
    "import logging\n",
    "logging.basicConfig(level=logging.DEBUG)\n",
    "\n",
    "import torch\n",
    "from torch.utils.data import DataLoader\n",
    "from torchvision.models import resnet18\n",
    "\n",
    "from sklearn.metrics import confusion_matrix\n",
    "from torcheval.metrics.functional import multiclass_f1_score\n",
    "from sklearn.manifold import TSNE\n",
    "\n",
    "import matplotlib.pyplot as plt\n",
    "import seaborn as sns\n",
    "\n",
    "sys.path.append(\"/home/self_supervised_learning_gr/self_supervised_learning/dev/ProjetCassiopee\")\n",
    "from src.setup import setup_python, setup_pytorch\n",
    "from src.transformation.custom_crop import ObjectCrop\n",
    "from src.dataset import RGBDObjectDataset\n",
    "from src.models.rgbd_object.cnn import test"
   ]
  },
  {
   "cell_type": "code",
   "execution_count": null,
   "metadata": {},
   "outputs": [],
   "source": [
    "torch.cuda.is_available()"
   ]
  },
  {
   "cell_type": "code",
   "execution_count": null,
   "metadata": {},
   "outputs": [],
   "source": [
    "setup_python()"
   ]
  },
  {
   "cell_type": "code",
   "execution_count": null,
   "metadata": {},
   "outputs": [],
   "source": [
    "DEVICE = setup_pytorch(gpu=True)"
   ]
  },
  {
   "cell_type": "code",
   "execution_count": null,
   "metadata": {},
   "outputs": [],
   "source": [
    "INPUT_SIZE = (256,256)\n",
    "MODALITIES = [\"rgb\"]\n",
    "TRANSFORMATION = None\n",
    "CROP_TRANSFORMATION = ObjectCrop(output_size=INPUT_SIZE,\n",
    "                                 padding=(20,20),\n",
    "                                 offset_range=(-10,10))\n",
    "NB_MAX_TEST_SAMPLES = None\n",
    "SPLIT = 0\n",
    "\n",
    "BATCH_SIZE = 50   # Batch size\n",
    "SHUFFLE = True    # Shuffle\n",
    "DROP_LAST = False # Drop last batch\n",
    "NUM_WORKERS = 0   # Number of prpocesses\n",
    "PIN_MEMORY = True # Memory pinning\n",
    "\n",
    "test_dataset = RGBDObjectDataset(path=\"../../../data/RGB-D_Object/rgbd-dataset\",\n",
    "                                 mode=\"test\",\n",
    "                                 modalities=MODALITIES,\n",
    "                                 transformation=TRANSFORMATION,\n",
    "                                 crop_transformation=CROP_TRANSFORMATION,\n",
    "                                 nb_max_samples=NB_MAX_TEST_SAMPLES,\n",
    "                                 split=SPLIT)\n",
    "\n",
    "test_data_loader = DataLoader(test_dataset,\n",
    "                              batch_size=BATCH_SIZE,\n",
    "                              shuffle=SHUFFLE,\n",
    "                              drop_last=DROP_LAST,\n",
    "                              num_workers=NUM_WORKERS,\n",
    "                              pin_memory=PIN_MEMORY)"
   ]
  },
  {
   "cell_type": "code",
   "execution_count": null,
   "metadata": {},
   "outputs": [],
   "source": [
    "model = resnet18()\n",
    "model.fc = torch.nn.Linear(512, len(test_dataset.class_dict), bias=True)"
   ]
  },
  {
   "cell_type": "code",
   "execution_count": null,
   "metadata": {},
   "outputs": [],
   "source": [
    "weight_path = \"cnn_20240503_152315/weights_epoch_55_batch_500\"\n",
    "model.load_state_dict(torch.load(weight_path))\n",
    "model = model.to(DEVICE)"
   ]
  },
  {
   "cell_type": "code",
   "execution_count": null,
   "metadata": {},
   "outputs": [],
   "source": [
    "# Test\n",
    "all_label, all_predicted = test(model,\n",
    "                                test_data_loader,\n",
    "                                DEVICE)"
   ]
  },
  {
   "cell_type": "code",
   "execution_count": null,
   "metadata": {},
   "outputs": [],
   "source": [
    "# Accuracy\n",
    "total = len(all_label)\n",
    "correct = (all_predicted == all_label).sum().item()\n",
    "accuracy = correct / total\n",
    "print(f\"Test: accuracy = {accuracy}\")"
   ]
  },
  {
   "cell_type": "code",
   "execution_count": null,
   "metadata": {},
   "outputs": [],
   "source": [
    "# Micro F1 score\n",
    "micro_f1_score = multiclass_f1_score(all_predicted, all_label, num_classes=torch.unique(all_label).shape[0], average=\"micro\")\n",
    "print(f\"Test: micro_f1_score = {micro_f1_score}\")\n",
    "\n",
    "# Macro F1 score\n",
    "macro_f1_score = multiclass_f1_score(all_predicted, all_label, num_classes=torch.unique(all_label).shape[0], average=\"macro\")\n",
    "print(f\"Test: macro_f1_score = {macro_f1_score}\")\n",
    "\n",
    "# Weighted F1 score\n",
    "weighted_f1_score = multiclass_f1_score(all_predicted, all_label, num_classes=torch.unique(all_label).shape[0], average=\"weighted\")\n",
    "print(f\"Test: weighted_f1_score = {weighted_f1_score}\")\n",
    "\n",
    "# F1 score\n",
    "f1_score = multiclass_f1_score(all_predicted, all_label, num_classes=torch.unique(all_label).shape[0], average=None)\n",
    "print(f\"Test: f1_score = {f1_score}\")"
   ]
  },
  {
   "cell_type": "code",
   "execution_count": null,
   "metadata": {},
   "outputs": [],
   "source": [
    "# Confusion Matrix\n",
    "test_confusion_matrix = confusion_matrix(all_label, all_predicted)\n",
    "\n",
    "fig, ax = plt.subplots(1, 1, figsize=(12, 10))\n",
    "sns.heatmap(test_confusion_matrix, annot=True, cmap=\"flare\",  fmt=\"d\", cbar=True, ax=ax)"
   ]
  },
  {
   "cell_type": "code",
   "execution_count": null,
   "metadata": {},
   "outputs": [],
   "source": [
    "with torch.no_grad():\n",
    "    # Retrieve batch data\n",
    "    batch = next(iter(test_data_loader))\n",
    "\n",
    "    # Load and prepare batch\n",
    "    rgb, depth, mask, loc_x, loc_y, label = batch\n",
    "    rgb = rgb.to(DEVICE)\n",
    "    # depth = depth.to(DEVICE)\n",
    "    # mask = mask.to(DEVICE)\n",
    "    # loc_x = loc_x.to(DEVICE)\n",
    "    # loc_y = loc_y.to(DEVICE)\n",
    "    label = label.to(DEVICE)\n",
    "        \n",
    "    # Make predictions for batch\n",
    "    output = model(rgb)\n",
    "    _, predicted = torch.max(output.data, 1)\n",
    "\n",
    "    fig, axs = plt.subplots(BATCH_SIZE, 1, figsize=(4, 20))\n",
    "    for i in range(BATCH_SIZE):\n",
    "        rgb_, label_, predicted_ = rgb[i], label[i], predicted[i]\n",
    "        rgb_, label_, predicted_ = rgb_.cpu(), label_.cpu(), predicted_.cpu()\n",
    "        \n",
    "        axs[i].imshow(rgb_.permute(1, 2, 0))\n",
    "        axs[i].set_title(f\"Label: {label_}-{list(test_dataset.class_dict)[label_]} | Prediction: {predicted_}-{list(test_dataset.class_dict)[predicted_]}\")\n",
    "        axs[i].set_axis_off()\n",
    "    plt.show()"
   ]
  }
 ],
 "metadata": {
  "kernelspec": {
   "display_name": "self_supervised_learning",
   "language": "python",
   "name": "self_supervised_learning"
  },
  "language_info": {
   "codemirror_mode": {
    "name": "ipython",
    "version": 3
   },
   "file_extension": ".py",
   "mimetype": "text/x-python",
   "name": "python",
   "nbconvert_exporter": "python",
   "pygments_lexer": "ipython3",
   "version": "3.8.10"
  }
 },
 "nbformat": 4,
 "nbformat_minor": 2
}
