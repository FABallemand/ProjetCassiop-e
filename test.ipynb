{
 "cells": [
  {
   "cell_type": "code",
   "execution_count": 1,
   "metadata": {},
   "outputs": [
    {
     "name": "stdout",
     "output_type": "stream",
     "text": [
      "torch.Size([1])\n",
      "tensor([1])\n",
      "torch.Size([])\n",
      "tensor(1)\n"
     ]
    },
    {
     "name": "stderr",
     "output_type": "stream",
     "text": [
      "/home/self_supervised_learning_gr/self_supervised_learning/lib/python3.8/site-packages/tqdm/auto.py:21: TqdmWarning: IProgress not found. Please update jupyter and ipywidgets. See https://ipywidgets.readthedocs.io/en/stable/user_install.html\n",
      "  from .autonotebook import tqdm as notebook_tqdm\n"
     ]
    }
   ],
   "source": [
    "import torch\n",
    "\n",
    "a = torch.tensor([1])\n",
    "print(a.shape)\n",
    "print(a)\n",
    "a = torch.reshape(a, [])\n",
    "print(a.shape)\n",
    "print(a)"
   ]
  },
  {
   "cell_type": "code",
   "execution_count": 4,
   "metadata": {},
   "outputs": [
    {
     "name": "stdout",
     "output_type": "stream",
     "text": [
      "torch.__version__ = 1.12.1+cu113\n",
      "torch.backends.cudnn.version() = 8302\n",
      "torch.version.cuda = 11.3\n",
      "DEVICE = cuda:0\n"
     ]
    }
   ],
   "source": [
    "# Check PyTorch version\n",
    "print(f\"torch.__version__ = {torch.__version__}\")\n",
    "\n",
    "# Enable faster runtime\n",
    "# https://discuss.pytorch.org/t/what-does-torch-backends-cudnn-benchmark-do/5936\n",
    "if torch.backends.cudnn.is_available():\n",
    "    print(f\"torch.backends.cudnn.version() = {torch.backends.cudnn.version()}\")\n",
    "    if torch.backends.cudnn.enabled:\n",
    "        torch.backends.cudnn.benchmark = True\n",
    "\n",
    "# Set-up PyTorch device\n",
    "DEVICE = None\n",
    "if torch.cuda.is_available():\n",
    "    DEVICE = torch.device(\"cuda:0\")\n",
    "    print(f\"torch.version.cuda = {torch.version.cuda}\")\n",
    "    torch.multiprocessing.set_start_method(\"spawn\") # MAYBE NOT REQUIRED\n",
    "else:\n",
    "    DEVICE = torch.device(\"cpu\")\n",
    "# torch.set_default_device(DEVICE) # Requires newer PyTorch version\n",
    "print(f\"DEVICE = {DEVICE}\")"
   ]
  }
 ],
 "metadata": {
  "kernelspec": {
   "display_name": "self_supervised_learning",
   "language": "python",
   "name": "self_supervised_learning"
  },
  "language_info": {
   "codemirror_mode": {
    "name": "ipython",
    "version": 3
   },
   "file_extension": ".py",
   "mimetype": "text/x-python",
   "name": "python",
   "nbconvert_exporter": "python",
   "pygments_lexer": "ipython3",
   "version": "3.8.10"
  }
 },
 "nbformat": 4,
 "nbformat_minor": 2
}
