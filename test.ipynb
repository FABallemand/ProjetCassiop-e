{
 "cells": [
  {
   "cell_type": "code",
   "execution_count": 1,
   "metadata": {},
   "outputs": [
    {
     "name": "stderr",
     "output_type": "stream",
     "text": [
      "/home/self_supervised_learning_gr/self_supervised_learning/lib/python3.8/site-packages/tqdm/auto.py:21: TqdmWarning: IProgress not found. Please update jupyter and ipywidgets. See https://ipywidgets.readthedocs.io/en/stable/user_install.html\n",
      "  from .autonotebook import tqdm as notebook_tqdm\n"
     ]
    }
   ],
   "source": [
    "import os\n",
    "import numpy as np\n",
    "\n",
    "import torch\n",
    "from torch.utils.data import DataLoader\n",
    "import torchvision\n",
    "import torchvision.transforms as transforms\n",
    "\n",
    "import matplotlib.pyplot as plt\n",
    "\n",
    "from src.setup import setup_python, setup_pytorch\n",
    "from src.dataset import RGBDObjectDataset"
   ]
  },
  {
   "cell_type": "code",
   "execution_count": 2,
   "metadata": {},
   "outputs": [
    {
     "name": "stdout",
     "output_type": "stream",
     "text": [
      "sys.version = 3.8.10 (default, Nov 22 2023, 10:22:35) \n",
      "[GCC 9.4.0]\n"
     ]
    }
   ],
   "source": [
    "setup_python()"
   ]
  },
  {
   "cell_type": "code",
   "execution_count": 3,
   "metadata": {},
   "outputs": [
    {
     "name": "stdout",
     "output_type": "stream",
     "text": [
      "torch.__version__ = 1.12.1+cu113\n",
      "torch.backends.cudnn.version() = 8302\n",
      "torch.version.cuda = 11.3\n",
      "DEVICE = cuda:0\n"
     ]
    },
    {
     "data": {
      "text/plain": [
       "device(type='cuda', index=0)"
      ]
     },
     "execution_count": 3,
     "metadata": {},
     "output_type": "execute_result"
    }
   ],
   "source": [
    "setup_pytorch()"
   ]
  },
  {
   "cell_type": "markdown",
   "metadata": {},
   "source": [
    "# Visualize Data"
   ]
  },
  {
   "cell_type": "code",
   "execution_count": 4,
   "metadata": {},
   "outputs": [],
   "source": [
    "INPUT_SIZE = (128,128)\n",
    "TRANSFORMATION = transforms.Compose(\n",
    "        [transforms.ToTensor(),\n",
    "         transforms.Resize(size=INPUT_SIZE)])"
   ]
  },
  {
   "cell_type": "code",
   "execution_count": 5,
   "metadata": {},
   "outputs": [],
   "source": [
    "dataset = RGBDObjectDataset(path=\"data/RGB-D_Object/rgbd-dataset\",\n",
    "                            mode=\"train\",\n",
    "                            transformation=None,\n",
    "                            # modalities=[\"rgb\", \"depth\", \"mask\", \"loc\"],\n",
    "                            nb_samples=None)"
   ]
  },
  {
   "cell_type": "code",
   "execution_count": 6,
   "metadata": {},
   "outputs": [
    {
     "data": {
      "text/plain": [
       "181437"
      ]
     },
     "execution_count": 6,
     "metadata": {},
     "output_type": "execute_result"
    }
   ],
   "source": [
    "len(dataset)"
   ]
  },
  {
   "cell_type": "code",
   "execution_count": 7,
   "metadata": {},
   "outputs": [
    {
     "name": "stdout",
     "output_type": "stream",
     "text": [
      "{'apple': 0, 'ball': 1, 'banana': 2, 'bell_pepper': 3, 'binder': 4, 'bowl': 5, 'calculator': 6, 'camera': 7, 'cap': 8, 'cell_phone': 9, 'cereal_box': 10, 'coffee_mug': 11, 'comb': 12, 'dry_battery': 13, 'flashlight': 14, 'food_bag': 15, 'food_box': 16, 'food_can': 17, 'food_cup': 18, 'food_jar': 19, 'garlic': 20, 'glue_stick': 21, 'greens': 22, 'hand_towel': 23, 'instant_noodles': 24, 'keyboard': 25, 'kleenex': 26, 'lemon': 27, 'lightbulb': 28, 'lime': 29, 'marker': 30, 'mushroom': 31, 'notebook': 32, 'onion': 33, 'orange': 34, 'peach': 35, 'pear': 36, 'pitcher': 37, 'plate': 38, 'pliers': 39, 'potato': 40, 'rubber_eraser': 41, 'scissors': 42, 'shampoo': 43, 'soda_can': 44, 'sponge': 45, 'stapler': 46, 'tomato': 47, 'toothbrush': 48, 'toothpaste': 49, 'water_bottle': 50}\n"
     ]
    }
   ],
   "source": [
    "print(dataset.class_dict)"
   ]
  },
  {
   "cell_type": "code",
   "execution_count": 8,
   "metadata": {},
   "outputs": [
    {
     "name": "stdout",
     "output_type": "stream",
     "text": [
      "100\n",
      "['apple_2_1_1', 'apple_2_1_10', 'apple_2_1_100', 'apple_2_1_101', 'apple_2_1_102', 'apple_2_1_103', 'apple_2_1_105', 'apple_2_1_106', 'apple_2_1_107', 'apple_2_1_108']\n"
     ]
    }
   ],
   "source": [
    "print(len(dataset.x))\n",
    "print(dataset.x[:10])"
   ]
  },
  {
   "cell_type": "code",
   "execution_count": 9,
   "metadata": {},
   "outputs": [
    {
     "name": "stdout",
     "output_type": "stream",
     "text": [
      "100\n",
      "[0, 0, 0, 0, 0, 0, 0, 0, 0, 0]\n"
     ]
    }
   ],
   "source": [
    "print(len(dataset.y))\n",
    "print(dataset.y[:10])"
   ]
  },
  {
   "cell_type": "code",
   "execution_count": 10,
   "metadata": {},
   "outputs": [],
   "source": [
    "data_loader = DataLoader(dataset,\n",
    "                         batch_size=10,\n",
    "                         shuffle=True)"
   ]
  },
  {
   "cell_type": "code",
   "execution_count": 11,
   "metadata": {},
   "outputs": [
    {
     "name": "stdout",
     "output_type": "stream",
     "text": [
      "1\n",
      "2\n",
      "3\n",
      "4\n",
      "5\n",
      "6\n",
      "7\n",
      "8\n",
      "9\n",
      "10\n"
     ]
    }
   ],
   "source": [
    "j = 0\n",
    "for i, data in enumerate(data_loader):\n",
    "    j += 1\n",
    "    print(j)"
   ]
  },
  {
   "cell_type": "code",
   "execution_count": null,
   "metadata": {},
   "outputs": [],
   "source": [
    "# Retrieve batch data\n",
    "batch_rgb, batch_depth, batch_mask, batch_loc_x, batch_loc_y, batch_label = next(iter(data_loader))\n",
    "print(f\"RGB batch shape: {batch_rgb.size()}\")\n",
    "print(f\"Labels batch shape: {batch_label.size()}\")"
   ]
  },
  {
   "cell_type": "code",
   "execution_count": null,
   "metadata": {},
   "outputs": [],
   "source": [
    "# Retrieve individual data\n",
    "rgb, depth, mask, loc_x, loc_y, label = batch_rgb[0], batch_depth[0], batch_mask[0], batch_loc_x[0], batch_loc_y[0], batch_label[0]"
   ]
  },
  {
   "cell_type": "code",
   "execution_count": null,
   "metadata": {},
   "outputs": [],
   "source": [
    "print(rgb.size())\n",
    "fig, axs = plt.subplots(1, 3, figsize=(12,3))\n",
    "axs[0].imshow(rgb.permute(1, 2, 0))\n",
    "axs[1].imshow(depth.permute(1, 2, 0))\n",
    "axs[2].imshow(mask.permute(1, 2, 0))\n",
    "fig.suptitle(f\"Label: {label}->{list(dataset.class_dict)[label]} | Location: ({loc_x},{loc_y})\")"
   ]
  },
  {
   "cell_type": "code",
   "execution_count": null,
   "metadata": {},
   "outputs": [],
   "source": [
    "new_size = (128,128)\n",
    "rgb_resized = torchvision.transforms.Resize(size=new_size)(rgb)\n",
    "depth_resized = torchvision.transforms.Resize(size=new_size)(depth)\n",
    "mask_resized = torchvision.transforms.Resize(size=new_size)(mask)\n",
    "fig, axs = plt.subplots(1, 3, figsize=(12,3))\n",
    "axs[0].imshow(rgb_resized.permute(1, 2, 0))\n",
    "axs[1].imshow(depth_resized.permute(1, 2, 0))\n",
    "axs[2].imshow(mask_resized.permute(1, 2, 0))\n",
    "fig.suptitle(f\"Label: {label}->{list(dataset.class_dict)[label]} | Location: ({loc_x},{loc_y})\")"
   ]
  }
 ],
 "metadata": {
  "kernelspec": {
   "display_name": "self_supervised_learning",
   "language": "python",
   "name": "self_supervised_learning"
  },
  "language_info": {
   "codemirror_mode": {
    "name": "ipython",
    "version": 3
   },
   "file_extension": ".py",
   "mimetype": "text/x-python",
   "name": "python",
   "nbconvert_exporter": "python",
   "pygments_lexer": "ipython3",
   "version": "3.8.10"
  }
 },
 "nbformat": 4,
 "nbformat_minor": 2
}
