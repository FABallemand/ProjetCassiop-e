{
 "cells": [
  {
   "cell_type": "code",
   "execution_count": null,
   "metadata": {},
   "outputs": [],
   "source": [
    "import os\n",
    "import sys\n",
    "import itertools\n",
    "import numpy as np\n",
    "\n",
    "import torch\n",
    "from torch.utils.data import DataLoader\n",
    "import torchvision\n",
    "import torchvision.transforms as transforms\n",
    "\n",
    "import matplotlib.pyplot as plt\n",
    "import graphviz\n",
    "import torchviz\n",
    "import torchview\n",
    "\n",
    "sys.path.append(\"/home/self_supervised_learning_gr/self_supervised_learning/dev/ProjetCassiopee\")\n",
    "from src.setup import setup_python, setup_pytorch\n",
    "from src.dataset import RGBDObjectDataset, RGBDObjectDataset_Contrast\n",
    "from src.models import TestCNN, TestAutoencoder, CombinedModel"
   ]
  },
  {
   "cell_type": "code",
   "execution_count": null,
   "metadata": {},
   "outputs": [],
   "source": [
    "setup_python()"
   ]
  },
  {
   "cell_type": "code",
   "execution_count": null,
   "metadata": {},
   "outputs": [],
   "source": [
    "DEVICE = setup_pytorch()"
   ]
  },
  {
   "cell_type": "code",
   "execution_count": null,
   "metadata": {},
   "outputs": [],
   "source": [
    "INPUT_SIZE = (128,128)\n",
    "BATCH_SIZE = 10\n",
    "TRANSFORMATION = transforms.Compose(\n",
    "    [transforms.ToTensor(),\n",
    "     transforms.Resize(size=INPUT_SIZE)])\n",
    "\n",
    "dataset = RGBDObjectDataset(path=\"data/RGB-D_Object/rgbd-dataset\",\n",
    "                            mode=\"train\",\n",
    "                            transformation=TRANSFORMATION,\n",
    "                            nb_samples=100)\n",
    "\n",
    "data_loader = DataLoader(dataset=dataset,\n",
    "                         batch_size=BATCH_SIZE,\n",
    "                         shuffle=True)"
   ]
  },
  {
   "cell_type": "code",
   "execution_count": null,
   "metadata": {},
   "outputs": [],
   "source": [
    "# model = TestCNN().to(DEVICE)\n",
    "# model = TestAutoencoder().to(DEVICE)\n",
    "model = CombinedModel().to(DEVICE)\n",
    "print(model)"
   ]
  },
  {
   "cell_type": "markdown",
   "metadata": {},
   "source": [
    "# Torchviz"
   ]
  },
  {
   "cell_type": "code",
   "execution_count": null,
   "metadata": {},
   "outputs": [],
   "source": [
    "# # Load and prepare batch\n",
    "# rgb, depth, mask, loc_x, loc_y, label = next(iter(data_loader))\n",
    "# rgb = rgb.to(DEVICE)\n",
    "# depth = depth.to(DEVICE)\n",
    "# mask = mask.to(DEVICE)\n",
    "# loc_x = loc_x.to(DEVICE)\n",
    "# loc_y = loc_y.to(DEVICE)\n",
    "# label = label.to(DEVICE)\n",
    "\n",
    "# y = model(rgb)\n",
    "\n",
    "# torchviz.make_dot(y.mean(), params=dict(model.named_parameters()))"
   ]
  },
  {
   "cell_type": "markdown",
   "metadata": {},
   "source": [
    "# Torchview"
   ]
  },
  {
   "cell_type": "code",
   "execution_count": null,
   "metadata": {},
   "outputs": [],
   "source": [
    "graphviz.set_jupyter_format('png')\n",
    "graph = torchview.draw_graph(model, input_size=(BATCH_SIZE, 3, INPUT_SIZE[0], INPUT_SIZE[1]), device=DEVICE,\n",
    "                             save_graph=True, filename=\"test\", directory=\"train_results\")\n",
    "# graph.resize_graph(scale=0.5)\n",
    "graph.visual_graph"
   ]
  }
 ],
 "metadata": {
  "kernelspec": {
   "display_name": "self_supervised_learning",
   "language": "python",
   "name": "self_supervised_learning"
  },
  "language_info": {
   "codemirror_mode": {
    "name": "ipython",
    "version": 3
   },
   "file_extension": ".py",
   "mimetype": "text/x-python",
   "name": "python",
   "nbconvert_exporter": "python",
   "pygments_lexer": "ipython3",
   "version": "3.8.10"
  }
 },
 "nbformat": 4,
 "nbformat_minor": 2
}
